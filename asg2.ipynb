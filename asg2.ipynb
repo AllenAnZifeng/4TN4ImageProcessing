{
 "cells": [
  {
   "cell_type": "code",
   "execution_count": 8,
   "metadata": {
    "collapsed": true
   },
   "outputs": [
    {
     "name": "stdout",
     "output_type": "stream",
     "text": [
      "Num GPUs Available:  1\n"
     ]
    }
   ],
   "source": [
    "import tensorflow as tf\n",
    "print(\"Num GPUs Available: \", len(tf.config.list_physical_devices('GPU')))"
   ]
  },
  {
   "cell_type": "code",
   "execution_count": 2,
   "outputs": [
    {
     "name": "stdout",
     "output_type": "stream",
     "text": [
      "2.10.1\n"
     ]
    }
   ],
   "source": [
    "print(tf.__version__)"
   ],
   "metadata": {
    "collapsed": false
   }
  },
  {
   "cell_type": "code",
   "execution_count": 4,
   "outputs": [],
   "source": [
    "\n",
    "\n",
    "import glob\n",
    "\n",
    "import cv2\n",
    "import matplotlib.pyplot as plt\n",
    "import numpy as np\n",
    "from keras.layers import *\n",
    "from keras.models import *\n",
    "from tqdm import tqdm\n"
   ],
   "metadata": {
    "collapsed": false
   }
  },
  {
   "cell_type": "code",
   "execution_count": 1,
   "outputs": [
    {
     "ename": "NameError",
     "evalue": "name 'load_model' is not defined",
     "output_type": "error",
     "traceback": [
      "\u001B[1;31m---------------------------------------------------------------------------\u001B[0m",
      "\u001B[1;31mNameError\u001B[0m                                 Traceback (most recent call last)",
      "Cell \u001B[1;32mIn[1], line 1\u001B[0m\n\u001B[1;32m----> 1\u001B[0m model \u001B[38;5;241m=\u001B[39m \u001B[43mload_model\u001B[49m(\u001B[38;5;124m'\u001B[39m\u001B[38;5;124mmodel/model2.h5\u001B[39m\u001B[38;5;124m'\u001B[39m)\n\u001B[0;32m      2\u001B[0m img \u001B[38;5;241m=\u001B[39m cv2\u001B[38;5;241m.\u001B[39mimread(\u001B[38;5;124m'\u001B[39m\u001B[38;5;124mC:\u001B[39m\u001B[38;5;130;01m\\\\\u001B[39;00m\u001B[38;5;124mUsers\u001B[39m\u001B[38;5;130;01m\\\\\u001B[39;00m\u001B[38;5;124mzifen\u001B[39m\u001B[38;5;130;01m\\\\\u001B[39;00m\u001B[38;5;124mDesktop\u001B[39m\u001B[38;5;130;01m\\\\\u001B[39;00m\u001B[38;5;124m4TN4\u001B[39m\u001B[38;5;130;01m\\\\\u001B[39;00m\u001B[38;5;124mProjects\u001B[39m\u001B[38;5;130;01m\\\\\u001B[39;00m\u001B[38;5;124mDIV2K_valid_HR\u001B[39m\u001B[38;5;130;01m\\\\\u001B[39;00m\u001B[38;5;124m0801.png\u001B[39m\u001B[38;5;124m'\u001B[39m)\n\u001B[0;32m      3\u001B[0m img_ycrcb \u001B[38;5;241m=\u001B[39m cv2\u001B[38;5;241m.\u001B[39mcvtColor(img, cv2\u001B[38;5;241m.\u001B[39mCOLOR_BGR2YCrCb)\n",
      "\u001B[1;31mNameError\u001B[0m: name 'load_model' is not defined"
     ]
    }
   ],
   "source": [
    "model = load_model('model/model2.h5')\n",
    "img = cv2.imread('C:\\\\Users\\\\zifen\\\\Desktop\\\\4TN4\\\\Projects\\\\DIV2K_valid_HR\\\\0801.png')\n",
    "img_ycrcb = cv2.cvtColor(img, cv2.COLOR_BGR2YCrCb)\n",
    "y_channel = img_ycrcb[:, :, 0]\n",
    "\n",
    "y_in = cv2.cvtColor(img, cv2.COLOR_BGR2YCrCb)\n",
    "\n",
    "y = cv2.resize(y_channel, (64, 64), interpolation=cv2.INTER_AREA)\n",
    "y_true = cv2.resize(y_channel, (128, 128), interpolation=cv2.INTER_AREA)\n",
    "\n",
    "y = np.expand_dims(y, axis=0)\n",
    "\n",
    "# if you have preprocessing you may want to apply those here!\n",
    "y_upsampled = model.predict(y)"
   ],
   "metadata": {
    "collapsed": false
   }
  },
  {
   "cell_type": "code",
   "execution_count": 10,
   "outputs": [
    {
     "data": {
      "text/plain": "array([[[ 62, 133, 126],\n        [ 60, 133, 129],\n        [ 66, 134, 129],\n        ...,\n        [  7, 133, 124],\n        [  7, 133, 124],\n        [  7, 133, 124]],\n\n       [[ 73, 135, 123],\n        [ 70, 135, 126],\n        [ 71, 136, 127],\n        ...,\n        [  7, 133, 124],\n        [  7, 133, 124],\n        [  7, 133, 124]],\n\n       [[ 79, 137, 120],\n        [ 76, 138, 123],\n        [ 73, 137, 123],\n        ...,\n        [  7, 133, 124],\n        [  7, 133, 124],\n        [  7, 133, 124]],\n\n       ...,\n\n       [[ 16, 131, 121],\n        [ 20, 132, 120],\n        [ 26, 134, 119],\n        ...,\n        [ 16, 133, 120],\n        [ 15, 133, 120],\n        [ 14, 134, 120]],\n\n       [[ 18, 133, 122],\n        [ 22, 132, 121],\n        [ 30, 131, 120],\n        ...,\n        [ 14, 134, 120],\n        [ 15, 134, 121],\n        [ 14, 134, 121]],\n\n       [[ 14, 133, 125],\n        [ 18, 132, 124],\n        [ 24, 131, 124],\n        ...,\n        [ 14, 134, 120],\n        [ 14, 134, 121],\n        [ 14, 134, 122]]], dtype=uint8)"
     },
     "execution_count": 10,
     "metadata": {},
     "output_type": "execute_result"
    }
   ],
   "source": [],
   "metadata": {
    "collapsed": false
   }
  },
  {
   "cell_type": "code",
   "execution_count": 6,
   "outputs": [
    {
     "name": "stdout",
     "output_type": "stream",
     "text": [
      "Model: \"model_1\"\n",
      "_________________________________________________________________\n",
      " Layer (type)                Output Shape              Param #   \n",
      "=================================================================\n",
      " input_2 (InputLayer)        [(None, None, None, 3)]   0         \n",
      "                                                                 \n",
      " conv2d_6 (Conv2D)           (None, None, None, 32)    896       \n",
      "                                                                 \n",
      " conv2d_7 (Conv2D)           (None, None, None, 64)    18496     \n",
      "                                                                 \n",
      " conv2d_8 (Conv2D)           (None, None, None, 128)   73856     \n",
      "                                                                 \n",
      " up_sampling2d_1 (UpSampling  (None, None, None, 128)  0         \n",
      " 2D)                                                             \n",
      "                                                                 \n",
      " conv2d_9 (Conv2D)           (None, None, None, 64)    73792     \n",
      "                                                                 \n",
      " conv2d_10 (Conv2D)          (None, None, None, 32)    18464     \n",
      "                                                                 \n",
      " conv2d_11 (Conv2D)          (None, None, None, 3)     867       \n",
      "                                                                 \n",
      " activation_1 (Activation)   (None, None, None, 3)     0         \n",
      "                                                                 \n",
      " tf.math.multiply_1 (TFOpLam  (None, None, None, 3)    0         \n",
      " bda)                                                            \n",
      "                                                                 \n",
      " tf.__operators__.add_1 (TFO  (None, None, None, 3)    0         \n",
      " pLambda)                                                        \n",
      "                                                                 \n",
      "=================================================================\n",
      "Total params: 186,371\n",
      "Trainable params: 186,371\n",
      "Non-trainable params: 0\n",
      "_________________________________________________________________\n"
     ]
    }
   ],
   "source": [
    "import glob\n",
    "\n",
    "import cv2\n",
    "import matplotlib.pyplot as plt\n",
    "import numpy as np\n",
    "from keras.layers import *\n",
    "from keras.models import *\n",
    "from tqdm import tqdm\n",
    "\n",
    "input = Input(shape=(None, None, 3))\n",
    "#n_inp = input/255\n",
    "x = Conv2D(32, 3, activation='relu', padding='same')(input)\n",
    "x = Conv2D(64, 3, activation='relu', padding='same')(x)\n",
    "x = Conv2D(128, 3, activation='relu', padding='same')(x)\n",
    "x = UpSampling2D(2)(x)\n",
    "x = Conv2D(64, 3, activation='relu', padding='same')(x)\n",
    "x = Conv2D(32, 3, activation='relu', padding='same')(x)\n",
    "x = Conv2D(3, 3, activation=None, padding='same')(x)\n",
    "x = Activation('tanh') (x)\n",
    "x = x * 127.5 + 127.5\n",
    "\n",
    "model = Model([input], x)\n",
    "model.summary()"
   ],
   "metadata": {
    "collapsed": false
   }
  },
  {
   "cell_type": "code",
   "execution_count": 7,
   "outputs": [
    {
     "data": {
      "text/plain": "(None, None, None, 3)"
     },
     "execution_count": 7,
     "metadata": {},
     "output_type": "execute_result"
    }
   ],
   "source": [
    "model.output_shape"
   ],
   "metadata": {
    "collapsed": false
   }
  },
  {
   "cell_type": "markdown",
   "source": [],
   "metadata": {
    "collapsed": false
   }
  }
 ],
 "metadata": {
  "kernelspec": {
   "display_name": "Python 3",
   "language": "python",
   "name": "python3"
  },
  "language_info": {
   "codemirror_mode": {
    "name": "ipython",
    "version": 2
   },
   "file_extension": ".py",
   "mimetype": "text/x-python",
   "name": "python",
   "nbconvert_exporter": "python",
   "pygments_lexer": "ipython2",
   "version": "2.7.6"
  }
 },
 "nbformat": 4,
 "nbformat_minor": 0
}
